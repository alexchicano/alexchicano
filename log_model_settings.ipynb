{
 "cells": [
  {
   "cell_type": "code",
   "execution_count": 2,
   "metadata": {},
   "outputs": [],
   "source": [
    "import pandas as pd\n",
    "import numpy as np\n",
    "import os"
   ]
  },
  {
   "attachments": {},
   "cell_type": "markdown",
   "metadata": {},
   "source": [
    "# Read the csv"
   ]
  },
  {
   "cell_type": "code",
   "execution_count": 6,
   "metadata": {},
   "outputs": [
    {
     "data": {
      "text/html": [
       "<div>\n",
       "<style scoped>\n",
       "    .dataframe tbody tr th:only-of-type {\n",
       "        vertical-align: middle;\n",
       "    }\n",
       "\n",
       "    .dataframe tbody tr th {\n",
       "        vertical-align: top;\n",
       "    }\n",
       "\n",
       "    .dataframe thead th {\n",
       "        text-align: right;\n",
       "    }\n",
       "</style>\n",
       "<table border=\"1\" class=\"dataframe\">\n",
       "  <thead>\n",
       "    <tr style=\"text-align: right;\">\n",
       "      <th></th>\n",
       "      <th>model_name</th>\n",
       "      <th>batch_size</th>\n",
       "      <th>num_epochs</th>\n",
       "      <th>optimizer</th>\n",
       "      <th>lr</th>\n",
       "      <th>criterion</th>\n",
       "      <th>patience</th>\n",
       "      <th>train_loss</th>\n",
       "      <th>val_loss</th>\n",
       "      <th>test_loss</th>\n",
       "      <th>accuracy</th>\n",
       "      <th>sensitivity</th>\n",
       "      <th>specificity</th>\n",
       "      <th>precision</th>\n",
       "      <th>auc</th>\n",
       "    </tr>\n",
       "  </thead>\n",
       "  <tbody>\n",
       "  </tbody>\n",
       "</table>\n",
       "</div>"
      ],
      "text/plain": [
       "Empty DataFrame\n",
       "Columns: [model_name, batch_size, num_epochs, optimizer, lr, criterion, patience, train_loss, val_loss, test_loss, accuracy, sensitivity, specificity, precision, auc]\n",
       "Index: []"
      ]
     },
     "execution_count": 6,
     "metadata": {},
     "output_type": "execute_result"
    }
   ],
   "source": [
    "# Read the csv file called \"model_settings.csv\" in the \"models\" folder\n",
    "csv_path = os.path.join('..', 'models', 'model_settings.csv')\n",
    "\n",
    "# if the file does not exist, create it\n",
    "if not os.path.exists(csv_path):\n",
    "    df = pd.DataFrame(columns = ['model_name', 'batch_size', 'best_epoch', 'optimizer', 'lr', 'criterion', 'patience',\n",
    "                                'best_train_loss', 'best_val_loss', 'test_loss', 'accuracy', 'sensitivity', 'specificity', 'precision', 'auc'])\n",
    "    df.to_csv(csv_path, index = False)\n",
    "    \n",
    "df = pd.read_csv(csv_path)\n",
    "df"
   ]
  },
  {
   "attachments": {},
   "cell_type": "markdown",
   "metadata": {},
   "source": [
    "# Compute the new row to log"
   ]
  },
  {
   "cell_type": "code",
   "execution_count": 32,
   "metadata": {},
   "outputs": [
    {
     "data": {
      "text/plain": [
       "['bin_3c2d_6-11_1',\n",
       " 4,\n",
       " 30,\n",
       " 'Adam',\n",
       " 0.001,\n",
       " 'MSE',\n",
       " '?',\n",
       " '?',\n",
       " '?',\n",
       " '?',\n",
       " '?',\n",
       " '?',\n",
       " '?',\n",
       " 'None']"
      ]
     },
     "execution_count": 32,
     "metadata": {},
     "output_type": "execute_result"
    }
   ],
   "source": [
    "# Add a new row to the dataframe\n",
    "params_dict = {\n",
    "    model_name : 'bin_3c2d_6-11_1',\n",
    "    batch_size : 4,\n",
    "    num_epochs : 30,\n",
    "    optimizer : 'Adam',\n",
    "    lr : 0.001,\n",
    "    criterion : 'MSE',\n",
    "    train_loss : '?',\n",
    "    test_loss : '?',\n",
    "    accuracy : '?',\n",
    "    sensitivity : '?',\n",
    "    specificity : '?',\n",
    "    precision : '?',\n",
    "    auc : '?',\n",
    "    stop_criterion = 'None',\n",
    "    }\n",
    "\n",
    "new_row = [list(params_dict.values())]\n",
    "\n",
    "new_row"
   ]
  },
  {
   "cell_type": "code",
   "execution_count": 25,
   "metadata": {},
   "outputs": [
    {
     "data": {
      "text/html": [
       "<div>\n",
       "<style scoped>\n",
       "    .dataframe tbody tr th:only-of-type {\n",
       "        vertical-align: middle;\n",
       "    }\n",
       "\n",
       "    .dataframe tbody tr th {\n",
       "        vertical-align: top;\n",
       "    }\n",
       "\n",
       "    .dataframe thead th {\n",
       "        text-align: right;\n",
       "    }\n",
       "</style>\n",
       "<table border=\"1\" class=\"dataframe\">\n",
       "  <thead>\n",
       "    <tr style=\"text-align: right;\">\n",
       "      <th></th>\n",
       "      <th>model_name</th>\n",
       "      <th>batch_size</th>\n",
       "      <th>num_epochs</th>\n",
       "      <th>optimizer</th>\n",
       "      <th>lr</th>\n",
       "      <th>criterion</th>\n",
       "      <th>train_loss</th>\n",
       "      <th>test_loss</th>\n",
       "      <th>accuracy</th>\n",
       "      <th>sensitivity</th>\n",
       "      <th>specificity</th>\n",
       "      <th>precision</th>\n",
       "      <th>auc</th>\n",
       "      <th>stopping_criterion</th>\n",
       "    </tr>\n",
       "  </thead>\n",
       "  <tbody>\n",
       "    <tr>\n",
       "      <th>0</th>\n",
       "      <td>bin_3c2d_6-11_1</td>\n",
       "      <td>4</td>\n",
       "      <td>30</td>\n",
       "      <td>Adam</td>\n",
       "      <td>0.001</td>\n",
       "      <td>MSE</td>\n",
       "      <td>?</td>\n",
       "      <td>?</td>\n",
       "      <td>?</td>\n",
       "      <td>?</td>\n",
       "      <td>?</td>\n",
       "      <td>?</td>\n",
       "      <td>?</td>\n",
       "      <td>None</td>\n",
       "    </tr>\n",
       "  </tbody>\n",
       "</table>\n",
       "</div>"
      ],
      "text/plain": [
       "        model_name  batch_size  num_epochs optimizer     lr criterion  \\\n",
       "0  bin_3c2d_6-11_1           4          30      Adam  0.001       MSE   \n",
       "\n",
       "  train_loss test_loss accuracy sensitivity specificity precision auc  \\\n",
       "0          ?         ?        ?           ?           ?         ?   ?   \n",
       "\n",
       "  stopping_criterion  \n",
       "0               None  "
      ]
     },
     "execution_count": 25,
     "metadata": {},
     "output_type": "execute_result"
    }
   ],
   "source": [
    "# localize the row in the dataframe with the same model_name and update the values\n",
    "if model_name in df['model_name'].values:\n",
    "    df.loc[df['model_name'] == model_name] = new_row\n",
    "\n",
    "else:\n",
    "    df.loc[len(df)] = new_row\n",
    "\n",
    "# Save the dataframe to the csv file\n",
    "df.to_csv(csv_path, index = False)"
   ]
  },
  {
   "cell_type": "code",
   "execution_count": null,
   "metadata": {},
   "outputs": [],
   "source": []
  }
 ],
 "metadata": {
  "kernelspec": {
   "display_name": "base",
   "language": "python",
   "name": "python3"
  },
  "language_info": {
   "codemirror_mode": {
    "name": "ipython",
    "version": 3
   },
   "file_extension": ".py",
   "mimetype": "text/x-python",
   "name": "python",
   "nbconvert_exporter": "python",
   "pygments_lexer": "ipython3",
   "version": "3.10.9 | packaged by conda-forge | (main, Feb  2 2023, 20:20:04) [GCC 11.3.0]"
  },
  "orig_nbformat": 4,
  "vscode": {
   "interpreter": {
    "hash": "5b70979424729a6449cb7f7ec0cd29ae40dd9c67a0bf611c24609b9d553f0e45"
   }
  }
 },
 "nbformat": 4,
 "nbformat_minor": 2
}
